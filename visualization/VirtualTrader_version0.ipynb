{
  "nbformat": 4,
  "nbformat_minor": 0,
  "metadata": {
    "colab": {
      "provenance": [],
      "authorship_tag": "ABX9TyNNYwnYtW0VPtldHM4/OoYo",
      "include_colab_link": true
    },
    "kernelspec": {
      "name": "python3",
      "display_name": "Python 3"
    },
    "language_info": {
      "name": "python"
    }
  },
  "cells": [
    {
      "cell_type": "markdown",
      "metadata": {
        "id": "view-in-github",
        "colab_type": "text"
      },
      "source": [
        "<a href=\"https://colab.research.google.com/github/Heisnotanimposter/UPbit-quant/blob/main/VirtualTrader_version0.ipynb\" target=\"_parent\"><img src=\"https://colab.research.google.com/assets/colab-badge.svg\" alt=\"Open In Colab\"/></a>"
      ]
    },
    {
      "cell_type": "code",
      "execution_count": 1,
      "metadata": {
        "colab": {
          "base_uri": "https://localhost:8080/"
        },
        "id": "aaKIwEOtZYxo",
        "outputId": "7c03d45b-2385-491b-daed-168c7502ccb9"
      },
      "outputs": [
        {
          "output_type": "stream",
          "name": "stdout",
          "text": [
            "Looking in indexes: https://pypi.org/simple, https://us-python.pkg.dev/colab-wheels/public/simple/\n",
            "Collecting keras-rl\n",
            "  Downloading keras-rl-0.4.2.tar.gz (40 kB)\n",
            "\u001b[2K     \u001b[90m━━━━━━━━━━━━━━━━━━━━━━━━━━━━━━━━━━━━━━━━\u001b[0m \u001b[32m40.5/40.5 kB\u001b[0m \u001b[31m2.1 MB/s\u001b[0m eta \u001b[36m0:00:00\u001b[0m\n",
            "\u001b[?25h  Preparing metadata (setup.py) ... \u001b[?25l\u001b[?25hdone\n",
            "Requirement already satisfied: keras>=2.0.7 in /usr/local/lib/python3.10/dist-packages (from keras-rl) (2.12.0)\n",
            "Building wheels for collected packages: keras-rl\n",
            "  Building wheel for keras-rl (setup.py) ... \u001b[?25l\u001b[?25hdone\n",
            "  Created wheel for keras-rl: filename=keras_rl-0.4.2-py3-none-any.whl size=48376 sha256=73a92a27ba12f9ce5fe532a571a3ad7a62496c86e1abdeb402e2786a16011905\n",
            "  Stored in directory: /root/.cache/pip/wheels/05/a6/37/909e17a23bc31b94480c1c8d097469033c22c5f886a5d4e510\n",
            "Successfully built keras-rl\n",
            "Installing collected packages: keras-rl\n",
            "Successfully installed keras-rl-0.4.2\n"
          ]
        }
      ],
      "source": [
        "!pip install keras-rl"
      ]
    },
    {
      "cell_type": "code",
      "source": [
        "import gym\n",
        "import pandas as pd\n",
        "import numpy as np\n",
        "\n",
        "class TradingEnvironment(gym.Env):\n",
        "    def __init__(self):\n",
        "        super(TradingEnvironment, self).__init__()\n",
        "\n",
        "        # Load the dataset\n",
        "        self.data = pd.read_csv('krw_etc_candlesticks.csv')\n",
        "        self.current_step = 0\n",
        "\n",
        "        # Define the action space and observation space\n",
        "        self.action_space = gym.spaces.Discrete(3)  # Buy, hold, sell\n",
        "        self.observation_space = gym.spaces.Box(low=0, high=1, shape=(len(self.data.columns),), dtype=np.float32)\n",
        "\n",
        "    def reset(self):\n",
        "        self.current_step = 0\n",
        "        return self.data.loc[self.current_step].values\n",
        "\n",
        "    def step(self, action):\n",
        "        # Define your trading logic here using the action and data\n",
        "        # Calculate reward, done, and info based on the action and data\n",
        "        self.current_step += 1\n",
        "        if self.current_step >= len(self.data):\n",
        "            done = True\n",
        "        else:\n",
        "            done = False\n",
        "\n",
        "        next_state = self.data.loc[self.current_step].values\n",
        "        reward = 0  # Calculate the reward based on your trading logic\n",
        "        info = {}  # Optional additional information\n",
        "\n",
        "        return next_state, reward, done, info\n",
        "\n",
        "    def render(self, mode='human'):\n",
        "        pass  # Optional: Implement visualization of the trading environment\n"
      ],
      "metadata": {
        "id": "wmi_b_6TZoK8"
      },
      "execution_count": 2,
      "outputs": []
    },
    {
      "cell_type": "code",
      "source": [],
      "metadata": {
        "id": "BwnCVDEfZ38I"
      },
      "execution_count": null,
      "outputs": []
    }
  ]
}